{
 "cells": [
  {
   "cell_type": "code",
   "execution_count": 13,
   "id": "2aadc062",
   "metadata": {},
   "outputs": [
    {
     "name": "stdout",
     "output_type": "stream",
     "text": [
      "    duration  prediction\n",
      "0  37.005820           0\n",
      "1  28.001969           0\n",
      "2  34.006204           0\n",
      "3   0.427439           0\n",
      "4   0.173898           0\n"
     ]
    }
   ],
   "source": [
    "import pandas as pd\n",
    "import joblib\n",
    "\n",
    "# 1. 모델 경로 및 데이터 경로 설정\n",
    "MODEL_PATH = \"xgb_model.pkl\"  # 모델 경로\n",
    "CSV_PATH = \"vpn환경_traffic캡처/session_ISCX_250511.csv\"  # 입력 데이터 CSV 경로\n",
    "\n",
    "# 2. 모델 로드\n",
    "model = joblib.load(MODEL_PATH)\n",
    "\n",
    "# 3. 입력 데이터 로드\n",
    "df = pd.read_csv(CSV_PATH)\n",
    "\n",
    "# 4. 예측에 사용할 컬럼 정의\n",
    "required_features = [\n",
    "    'duration',\n",
    "    'total_fiat',\n",
    "    'min_biat',\n",
    "    'max_fiat',\n",
    "    'max_biat',\n",
    "    'mean_fiat',\n",
    "    'flowBytesPerSecond',\n",
    "    'min_flowiat',\n",
    "    'mean_flowiat'\n",
    "]\n",
    "\n",
    "# 5. 입력 데이터에서 필요한 컬럼만 추출\n",
    "X = df[required_features]\n",
    "\n",
    "# 6. 예측 수행\n",
    "predictions = model.predict(X)\n",
    "\n",
    "# 7. 예측 결과 추가\n",
    "df[\"prediction\"] = predictions  # 예: 0 = Non-VPN, 1 = VPN\n",
    "\n",
    "# 8. 결과 저장\n",
    "df.to_csv(\"classified_sessions.csv\", index=False)\n",
    "\n",
    "# 9. 출력 (선택)\n",
    "print(df[[\"duration\", \"prediction\"]].head())"
   ]
  },
  {
   "cell_type": "code",
   "execution_count": 14,
   "id": "0e51dfe9",
   "metadata": {},
   "outputs": [
    {
     "name": "stdout",
     "output_type": "stream",
     "text": [
      "    duration  prediction\n",
      "0   0.220817           0\n",
      "1   0.004875           0\n",
      "2  46.044571           0\n",
      "3  46.031441           0\n",
      "4  45.467138           0\n"
     ]
    }
   ],
   "source": [
    "import pandas as pd\n",
    "import joblib\n",
    "\n",
    "# 1. 모델 경로 및 데이터 경로 설정\n",
    "MODEL_PATH = \"xgb_model.pkl\"  # 모델 경로\n",
    "CSV_PATH = \"non_vpn_session_features_iscx_format.csv\"  # 입력 데이터 CSV 경로\n",
    "\n",
    "# 2. 모델 로드\n",
    "model = joblib.load(MODEL_PATH)\n",
    "\n",
    "# 3. 입력 데이터 로드\n",
    "df = pd.read_csv(CSV_PATH)\n",
    "\n",
    "# 4. 예측에 사용할 컬럼 정의\n",
    "required_features = [\n",
    "    'duration',\n",
    "    'total_fiat',\n",
    "    'min_biat',\n",
    "    'max_fiat',\n",
    "    'max_biat',\n",
    "    'mean_fiat',\n",
    "    'flowBytesPerSecond',\n",
    "    'min_flowiat',\n",
    "    'mean_flowiat'\n",
    "]\n",
    "\n",
    "# 5. 입력 데이터에서 필요한 컬럼만 추출\n",
    "X = df[required_features]\n",
    "\n",
    "# 6. 예측 수행\n",
    "predictions = model.predict(X)\n",
    "\n",
    "# 7. 예측 결과 추가\n",
    "df[\"prediction\"] = predictions  # 예: 0 = Non-VPN, 1 = VPN\n",
    "\n",
    "# 8. 결과 저장\n",
    "df.to_csv(\"non_vpn_classified_sessions.csv\", index=False)\n",
    "\n",
    "# 9. 출력 (선택)\n",
    "print(df[[\"duration\", \"prediction\"]].head())"
   ]
  },
  {
   "cell_type": "code",
   "execution_count": 6,
   "id": "03b187e0",
   "metadata": {},
   "outputs": [
    {
     "name": "stdout",
     "output_type": "stream",
     "text": [
      "    duration  prediction\n",
      "0   7.002493           0\n",
      "1  59.101277           0\n",
      "2  58.918935           0\n",
      "3   1.592895           0\n",
      "4  57.805313           0\n"
     ]
    }
   ],
   "source": [
    "import pandas as pd\n",
    "import joblib\n",
    "\n",
    "# 1. 모델 경로 및 데이터 경로 설정\n",
    "MODEL_PATH = \"xgb_model.pkl\"  # 모델 경로\n",
    "CSV_PATH = \"/Users/kjy/Desktop/4-1/산수프/Capstone25SS/1_session_features_iscx_format.csv\"  # 입력 데이터 CSV 경로\n",
    "\n",
    "# 2. 모델 로드\n",
    "model = joblib.load(MODEL_PATH)\n",
    "\n",
    "# 3. 입력 데이터 로드\n",
    "df = pd.read_csv(CSV_PATH)\n",
    "\n",
    "# 4. 예측에 사용할 컬럼 정의\n",
    "required_features = [\n",
    "    'duration',\n",
    "    'total_fiat',\n",
    "    'min_biat',\n",
    "    'max_fiat',\n",
    "    'max_biat',\n",
    "    'mean_fiat',\n",
    "    'flowBytesPerSecond',\n",
    "    'min_flowiat',\n",
    "    'mean_flowiat'\n",
    "]\n",
    "\n",
    "# 5. 입력 데이터에서 필요한 컬럼만 추출\n",
    "X = df[required_features]\n",
    "\n",
    "# 6. 예측 수행\n",
    "predictions = model.predict(X)\n",
    "\n",
    "# 7. 예측 결과 추가\n",
    "df[\"prediction\"] = predictions  # 예: 0 = Non-VPN, 1 = VPN\n",
    "\n",
    "# 8. 결과 저장\n",
    "df.to_csv(\"1_classified_sessions.csv\", index=False)\n",
    "\n",
    "# 9. 출력 (선택)\n",
    "print(df[[\"duration\", \"prediction\"]].head())"
   ]
  },
  {
   "cell_type": "code",
   "execution_count": null,
   "id": "d0f2fd53",
   "metadata": {},
   "outputs": [],
   "source": []
  }
 ],
 "metadata": {
  "kernelspec": {
   "display_name": "Python (myenv)",
   "language": "python",
   "name": "myenv"
  },
  "language_info": {
   "codemirror_mode": {
    "name": "ipython",
    "version": 3
   },
   "file_extension": ".py",
   "mimetype": "text/x-python",
   "name": "python",
   "nbconvert_exporter": "python",
   "pygments_lexer": "ipython3",
   "version": "3.12.3"
  }
 },
 "nbformat": 4,
 "nbformat_minor": 5
}
